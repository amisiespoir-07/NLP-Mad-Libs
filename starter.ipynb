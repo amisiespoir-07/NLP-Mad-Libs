{
 "cells": [
  {
   "cell_type": "code",
   "execution_count": 1,
   "metadata": {},
   "outputs": [],
   "source": [
    "#Install data\n",
    "\n",
    "import re \n",
    "import nltk\n",
    "from nltk.corpus import stopwords\n",
    "from nltk.tokenize import word_tokenize\n",
    "from nltk.lm import MLE\n",
    "from nltk.util import everygrams\n"
   ]
  },
  {
   "cell_type": "code",
   "execution_count": 2,
   "metadata": {},
   "outputs": [],
   "source": [
    "#Prepocessing data\n",
    "def preprocess_data(text):\n",
    "    #remove html tags\n",
    "    # the <.*7> reg_expression remove all the html tags and replace with \" \"\n",
    "    text = re.sub('<.*7>', \"\", text)\n",
    "\n",
    "    #convert text to lowercase \n",
    "    text = text.lower()\n",
    "\n",
    "    #remove all the punctuations in the text , . ! or ?\n",
    "    text = re.sub(f'[^\\w\\s]', '', text)\n",
    "\n",
    "    #remove stop words\n",
    "    stop_words = set(stopwords.words())\n",
    "    tokens =  word_tokenize(text)\n",
    "\n",
    "    text = [word for word in tokens if word not in stop_words]"
   ]
  },
  {
   "cell_type": "code",
   "execution_count": 3,
   "metadata": {},
   "outputs": [
    {
     "name": "stderr",
     "output_type": "stream",
     "text": [
      "[nltk_data] Downloading package punkt to\n",
      "[nltk_data]     C:\\Users\\Espoir\\AppData\\Roaming\\nltk_data...\n",
      "[nltk_data]   Package punkt is already up-to-date!\n"
     ]
    },
    {
     "data": {
      "text/plain": [
       "True"
      ]
     },
     "execution_count": 3,
     "metadata": {},
     "output_type": "execute_result"
    }
   ],
   "source": [
    "#nltk installs\n",
    "\n",
    "nltk.download('punkt')"
   ]
  },
  {
   "cell_type": "code",
   "execution_count": 4,
   "metadata": {},
   "outputs": [],
   "source": [
    "from nltk.lm import Vocabulary\n",
    "# language model function\n",
    "def  language_model(text_data):\n",
    "    #creating different token arrays\n",
    "    tokens = [word_tokenize(sentence) for sentence in text_data]\n",
    "\n",
    "    #Flatten the tokens\n",
    "    tokens = [word for sublist in tokens for word in sublist]\n",
    "\n",
    "    bigrams = list(everygrams(tokens, max_len=2))\n",
    "\n",
    "    if bigrams: \n",
    "        language_model = MLE(2)\n",
    "\n",
    "        vocaubulary = Vocabulary(tokens)\n",
    "        language_model.fit([bigrams], vocaubulary)\n",
    "        return language_model\n",
    "    else:\n",
    "        print(\"No bigrams found please input valid text data\")\n",
    "        return None\n",
    "\n",
    "text_data = [\n",
    "    \"The quick brown fox jumps over the lazy dog.\",\n",
    "    \"She sells sea shells by the sea shore.\",\n",
    "    \"The cat in the hat plays with the dog in the fog.\",\n",
    "    \"To be or not to be, that is the question.\",\n",
    "    \"All's well that ends well.\",\n",
    "    \"A stictch in time saves nine.\",\n",
    "    \"The early bird catches the worm.\"\n",
    "]\n",
    "\n",
    "language_model = language_model(text_data)"
   ]
  },
  {
   "cell_type": "code",
   "execution_count": 16,
   "metadata": {},
   "outputs": [
    {
     "name": "stdout",
     "output_type": "stream",
     "text": [
      "The tall garden is rounded through the grandious forest.\n",
      "            Then, all of a sudden, the charger nutella stincky will be! It was so\n",
      "            watery that cup blisterring bounced\n"
     ]
    }
   ],
   "source": [
    "#generate mad libs\n",
    "def generate_mad_libs(template, language_model):\n",
    "    placeholders = re.findall(r'{(.*?)}', template)\n",
    "    mad_libs = template\n",
    "\n",
    "    for i in placeholders:\n",
    "        if i == \"noun\":\n",
    "            replacement = input(\"Enter a noun: \")\n",
    "        elif i == \"verb\":\n",
    "            replacement = input(\"Enter a verb: \")\n",
    "        elif i == \"adjective\":\n",
    "            replacement = input(\"Enter an adjective: \")\n",
    "        elif i == \"adverb\":\n",
    "            replacement = input(\"Enter am adverb: \")\n",
    "        else:\n",
    "            replacement = input(\"Enter a random word: \")\n",
    "        \n",
    "        mad_libs = mad_libs.replace(f\"{{{i}}}\", replacement, 1)\n",
    "\n",
    "    return mad_libs\n",
    "\n",
    "template = \"\"\"The {adjective} {noun} {verb} {adverb} through the {adjective} forest.\n",
    "            Then, all of a sudden, the {adjeective} {noun} {adverb} {verb}! It was so\n",
    "            {adjective} that {noun} {adverb} {verb} away. Written by {noun} and {noun}\"\"\"\n",
    "\n",
    "finished_mad_libs = generate_mad_libs(template, language_model)\n",
    "\n",
    "print(finished_mad_libs)\n",
    "\n"
   ]
  }
 ],
 "metadata": {
  "kernelspec": {
   "display_name": "Python 3",
   "language": "python",
   "name": "python3"
  },
  "language_info": {
   "codemirror_mode": {
    "name": "ipython",
    "version": 3
   },
   "file_extension": ".py",
   "mimetype": "text/x-python",
   "name": "python",
   "nbconvert_exporter": "python",
   "pygments_lexer": "ipython3",
   "version": "3.10.4"
  }
 },
 "nbformat": 4,
 "nbformat_minor": 2
}
